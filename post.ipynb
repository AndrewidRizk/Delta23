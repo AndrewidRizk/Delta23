{
 "cells": [
  {
   "cell_type": "code",
   "execution_count": 16,
   "metadata": {},
   "outputs": [
    {
     "name": "stdout",
     "output_type": "stream",
     "text": [
      "{'users': [{'id': 'example_user', 'movies': ['The Shawshank Redemption', 'The Godfather', 'The Dark Knight', 'Whiplash']}, {'id': 'another_user', 'movies': ['Pulp Fiction', 'The Lord of the Rings: The Fellowship of the Ring', 'The Good, the Bad and the Ugly']}, {'id': 'Joe Biden', 'movies': []}, {'id': 'Bill Gates', 'movies': []}, {'id': '', 'movies': []}, {'id': 'Another', 'movies': []}]}\n"
     ]
    }
   ],
   "source": [
    "import string\n",
    "import os, sys\n",
    "import json\n",
    "userdata = \"userdata.json\"\n",
    "\n",
    "def getAuth(username):\n",
    "    movies = []\n",
    "    try:\n",
    "        with open(userdata, 'r') as fh:\n",
    "            data = json.load(fh)\n",
    "            user_exists = False\n",
    "            for user in data['users']:\n",
    "                if user['id'] == username:\n",
    "                    user_exists = True\n",
    "                    movies = user['movies']\n",
    "                    break\n",
    "            if not user_exists:\n",
    "                data['users'].append({'id': username, 'movies': []})\n",
    "                with open(userdata, 'w') as jsonfile:\n",
    "                    json.dump(data, jsonfile, indent=4)\n",
    "                \n",
    "\n",
    "\n",
    "\n",
    "    except FileNotFoundError:\n",
    "        print(\"The file userdata.json was not found.\")\n",
    "    except json.decoder.JSONDecodeError:\n",
    "        print(\"The file userdata.json is not well-formatted.\")\n",
    "    except KeyError:\n",
    "        print(\"The field 'users' or 'id' or 'movies' is not in the json file.\")\n",
    "    return movies\n",
    "\n",
    "def postMovie(user, movie):\n",
    "    if movie == \"\":\n",
    "        return\n",
    "    with open(userdata, \"r\") as fh:\n",
    "        data = json.load(fh)\n",
    "\n",
    "    for i in data['users']:\n",
    "        if i[\"id\"] == user:\n",
    "            if movie in i[\"movies\"]:\n",
    "                return 0\n",
    "            else:\n",
    "                i[\"movies\"].append(movie)\n",
    "\n",
    "    # write the updated data back to the json file\n",
    "    with open(userdata, \"w\") as f:\n",
    "        json.dump(data, f, indent = 4)\n",
    "\n",
    "postMovie('example_user', 'Whiplash')\n",
    "with open(userdata, \"r\") as f:\n",
    "        data = json.load(f)\n",
    "print(data)"
   ]
  }
 ],
 "metadata": {
  "kernelspec": {
   "display_name": "Python 3.11.1 64-bit",
   "language": "python",
   "name": "python3"
  },
  "language_info": {
   "codemirror_mode": {
    "name": "ipython",
    "version": 3
   },
   "file_extension": ".py",
   "mimetype": "text/x-python",
   "name": "python",
   "nbconvert_exporter": "python",
   "pygments_lexer": "ipython3",
   "version": "3.11.1"
  },
  "orig_nbformat": 4,
  "vscode": {
   "interpreter": {
    "hash": "8890049d105fdb4b2c15f377f4ea09550b84510fc217476ce3dd60e5b09b988e"
   }
  }
 },
 "nbformat": 4,
 "nbformat_minor": 2
}
