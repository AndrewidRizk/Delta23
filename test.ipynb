{
 "cells": [
  {
   "cell_type": "code",
   "execution_count": 1,
   "metadata": {},
   "outputs": [
    {
     "name": "stdout",
     "output_type": "stream",
     "text": [
      "[]\n"
     ]
    }
   ],
   "source": [
    "import json\n",
    "\n",
    "def getAuth(user):\n",
    "    movies = []\n",
    "    with open(\"userdata.json\", \"r\") as fh:\n",
    "        data = json.load(fh)\n",
    "        for user in data[\"users\"]:\n",
    "            if user[\"id\"] == user:\n",
    "                movies = user['movies']\n",
    "    return movies\n",
    "\n",
    "def postMovie(user, movie):\n",
    "    with open(\"userdata.json\", \"r\") as fh:\n",
    "        data = json.load(fh)\n",
    "\n",
    "    user_exists = False\n",
    "    for user in data['users']:\n",
    "        if user['id'] == user:\n",
    "            user_exists = True\n",
    "            user['movies'].append(movie)\n",
    "            break\n",
    "    if not user_exists:\n",
    "        data['users'].append({'id': user, 'movies': [movie]})\n",
    "    \n",
    "    with open('userdata.json', 'w') as fh:\n",
    "        json.dump(data, fh)\n",
    "\n",
    "\n",
    "print(getAuth('example_user'))\n",
    "    "
   ]
  }
 ],
 "metadata": {
  "kernelspec": {
   "display_name": "Python 3.11.1 64-bit",
   "language": "python",
   "name": "python3"
  },
  "language_info": {
   "codemirror_mode": {
    "name": "ipython",
    "version": 3
   },
   "file_extension": ".py",
   "mimetype": "text/x-python",
   "name": "python",
   "nbconvert_exporter": "python",
   "pygments_lexer": "ipython3",
   "version": "3.11.1"
  },
  "orig_nbformat": 4,
  "vscode": {
   "interpreter": {
    "hash": "8890049d105fdb4b2c15f377f4ea09550b84510fc217476ce3dd60e5b09b988e"
   }
  }
 },
 "nbformat": 4,
 "nbformat_minor": 2
}
