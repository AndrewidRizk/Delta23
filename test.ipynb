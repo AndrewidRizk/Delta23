{
 "cells": [
  {
   "cell_type": "code",
   "execution_count": 11,
   "metadata": {},
   "outputs": [
    {
     "name": "stdout",
     "output_type": "stream",
     "text": [
      "['The Shawshank Redemption', 'The Godfather', 'The Dark Knight']\n"
     ]
    }
   ],
   "source": [
    "import json\n",
    "\n",
    "def getAuth(username):\n",
    "    movies = []\n",
    "    try:\n",
    "        with open('userdata.json', 'r') as fh:\n",
    "            data = json.load(fh)\n",
    "            for user in data['users']:\n",
    "                if user['id'] == username:\n",
    "                    movies = user['movies']\n",
    "    except FileNotFoundError:\n",
    "        print(\"The file movies.json was not found.\")\n",
    "    except json.decoder.JSONDecodeError:\n",
    "        print(\"The file movies.json is not well-formatted.\")\n",
    "    except KeyError:\n",
    "        print(\"The field 'users' or 'id' or 'movies' is not in the json file.\")\n",
    "    return movies\n",
    "\n",
    "def postMovie(user, movie):\n",
    "    with open(\"userdata.json\", \"r\") as fh:\n",
    "        data = json.load(fh)\n",
    "\n",
    "    user_exists = False\n",
    "    for user in data['users']:\n",
    "        if user['id'] == user:\n",
    "            user_exists = True\n",
    "            user['movies'].append(movie)\n",
    "            break\n",
    "    if not user_exists:\n",
    "        data['users'].append({'id': user, 'movies': [movie]})\n",
    "    \n",
    "    with open('userdata.json', 'w') as fh:\n",
    "        json.dump(data, fh)\n",
    "\n",
    "\n",
    "\n",
    "user_id = 'example_user'\n",
    "print(getAuth(user_id))\n",
    "\n",
    "    "
   ]
  },
  {
   "cell_type": "code",
   "execution_count": 14,
   "metadata": {},
   "outputs": [
    {
     "name": "stdout",
     "output_type": "stream",
     "text": [
      "['The Shawshank Redemption', 'The Godfather', 'The Dark Knight']\n"
     ]
    }
   ],
   "source": [
    "from string import punctuation\n",
    "from flask import Flask, render_template, request, url_for, redirect\n",
    "import string\n",
    "import os, sys\n",
    "import json\n",
    "#userdata = os.path.join(os.path.abspath(os.path.dirname(__file__)), 'userdata.json')\n",
    "userdata = \"userdata.json\"\n",
    "\n",
    "\n",
    "def getAuth(username):\n",
    "    movies = []\n",
    "    try:\n",
    "        with open(userdata, 'r') as fh:\n",
    "            data = json.load(fh)\n",
    "            for user in data['users']:\n",
    "                if user['id'] == username:\n",
    "                    movies = user['movies']\n",
    "    except FileNotFoundError:\n",
    "        print(\"The file userdata.json was not found.\")\n",
    "    except json.decoder.JSONDecodeError:\n",
    "        print(\"The file userdata.json is not well-formatted.\")\n",
    "    except KeyError:\n",
    "        print(\"The field 'users' or 'id' or 'movies' is not in the json file.\")\n",
    "    return movies\n",
    "\n",
    "def postMovie(user, movie):\n",
    "    with open(userdata, \"r\") as fh:\n",
    "        data = json.load(fh)\n",
    "\n",
    "    user_exists = False\n",
    "    for user in data['users']:\n",
    "        if user['id'] == user:\n",
    "            user_exists = True\n",
    "            user['movies'].append(movie)\n",
    "            break\n",
    "    if not user_exists:\n",
    "        data['users'].append({'id': user, 'movies': [movie]})\n",
    "    \n",
    "    with open(userdata, 'w') as fh:\n",
    "        json.dump(data, fh)\n",
    "\n",
    "\n",
    "\n",
    "user_id = 'example_user'\n",
    "print(getAuth(user_id))"
   ]
  }
 ],
 "metadata": {
  "kernelspec": {
   "display_name": "Python 3.11.1 64-bit",
   "language": "python",
   "name": "python3"
  },
  "language_info": {
   "codemirror_mode": {
    "name": "ipython",
    "version": 3
   },
   "file_extension": ".py",
   "mimetype": "text/x-python",
   "name": "python",
   "nbconvert_exporter": "python",
   "pygments_lexer": "ipython3",
   "version": "3.11.1"
  },
  "orig_nbformat": 4,
  "vscode": {
   "interpreter": {
    "hash": "8890049d105fdb4b2c15f377f4ea09550b84510fc217476ce3dd60e5b09b988e"
   }
  }
 },
 "nbformat": 4,
 "nbformat_minor": 2
}
